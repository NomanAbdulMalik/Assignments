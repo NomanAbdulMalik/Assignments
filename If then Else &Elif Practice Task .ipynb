{
 "cells": [
  {
   "cell_type": "raw",
   "metadata": {},
   "source": [
    "1) A company decided to give bonus of 5% to employee if his/her year of service is more than 5 years.\n",
    "Ask user for their salary and year of service and print the net bonus amount."
   ]
  },
  {
   "cell_type": "code",
   "execution_count": 4,
   "metadata": {},
   "outputs": [
    {
     "name": "stdout",
     "output_type": "stream",
     "text": [
      "Welcome to Projexel Studio Pvt Ltd.\n",
      "Enter your name: Noman\n",
      "Hello Mr. Noman\n",
      "Please Enter your Salary: 2000000\n",
      "Please Enter year of join Company: 2019\n",
      "Sorry, You are not eligible for Bonus\n"
     ]
    }
   ],
   "source": [
    "print(\"Welcome to Projexel Studio Pvt Ltd.\")\n",
    "name = input(\"Enter your name: \")\n",
    "print(\"Hello Mr.\",name)\n",
    "salary = int(input(\"Please Enter your Salary: \"))\n",
    "year_of_join = int(input(\"Please Enter year of join Company: \"))\n",
    "year_of_service = 2022-year_of_join\n",
    "if year_of_service>5:\n",
    "    print(\"Congratulations You are Eligible for Bonus\")\n",
    "    bonus = (salary/100)*5\n",
    "    print(\"Your Bonus is: \",bonus)\n",
    "else:\n",
    "    print(\"Sorry, You are not eligible for Bonus\")\n",
    "    "
   ]
  },
  {
   "cell_type": "markdown",
   "metadata": {},
   "source": [
    "\n",
    "2) Write a program to check whether a person is eligible for voting or not. (accept age from user)"
   ]
  },
  {
   "cell_type": "code",
   "execution_count": 5,
   "metadata": {},
   "outputs": [
    {
     "name": "stdout",
     "output_type": "stream",
     "text": [
      "Wlecome to Voting Management System\n",
      "Enter your name: Noman\n",
      "Hello Mr. Noman\n",
      "Please Enter Your Age19\n",
      "Congratulation, You are eligible for Vote\n"
     ]
    }
   ],
   "source": [
    "print(\"Wlecome to Voting Management System\")\n",
    "name = input(\"Enter your name: \")\n",
    "print(\"Hello Mr.\",name)\n",
    "age = int(input(\"Please Enter Your Age\"))\n",
    "if (age>18):\n",
    "    print(\"Congratulation, You are eligible for Vote\")\n",
    "else:\n",
    "    print(\"Sorry, You are not eligible for Vote\")"
   ]
  },
  {
   "cell_type": "markdown",
   "metadata": {},
   "source": [
    "\n",
    "3) Write a program to check whether a number entered by user is even or odd."
   ]
  },
  {
   "cell_type": "code",
   "execution_count": 10,
   "metadata": {},
   "outputs": [
    {
     "name": "stdout",
     "output_type": "stream",
     "text": [
      "Please Enter a number: 13\n",
      "Given number 13 is Odd\n"
     ]
    }
   ],
   "source": [
    "num = int(input(\"Please Enter a number: \"))\n",
    "if(num%2)==0:\n",
    "    print(\"Given number {0} is Even\".format(num))\n",
    "else:\n",
    "    print(\"Given number {0} is Odd\".format(num))\n",
    "    "
   ]
  },
  {
   "cell_type": "markdown",
   "metadata": {},
   "source": [
    "4) Write a program to check whether a number is divisible by 7 or not.\n",
    "Show Answer"
   ]
  },
  {
   "cell_type": "code",
   "execution_count": 12,
   "metadata": {},
   "outputs": [
    {
     "name": "stdout",
     "output_type": "stream",
     "text": [
      "Please Enter a number: 11\n",
      "Given number 11 is not divisible by 7\n"
     ]
    }
   ],
   "source": [
    "num = int(input(\"Please Enter a number: \"))\n",
    "if(num%7)==0:\n",
    "    print(\"Given number {0} is divisible by 7\".format(num))\n",
    "else:\n",
    "    print(\"Given number {0} is not divisible by 7\".format(num))\n",
    "    "
   ]
  },
  {
   "cell_type": "raw",
   "metadata": {},
   "source": [
    "5) Write a program to display \n",
    "\"Hello\" if a number entered by user is a multiple of five , otherwise print \"Bye\"."
   ]
  },
  {
   "cell_type": "code",
   "execution_count": 15,
   "metadata": {},
   "outputs": [
    {
     "name": "stdout",
     "output_type": "stream",
     "text": [
      "Please Enter a number: 345\n",
      "Hello\n"
     ]
    }
   ],
   "source": [
    "num = int(input(\"Please Enter a number: \"))\n",
    "if(num%5)==0:\n",
    "    print(\"Hello\")\n",
    "else:\n",
    "    print(\"Bye\")\n",
    "    "
   ]
  },
  {
   "cell_type": "raw",
   "metadata": {},
   "source": [
    "6) Write a program to calculate the electricity bill (accept number of unit from user) according to the following criteria :\n",
    "     Unit                                                     Price  \n",
    "uptp 100 units                                             no charge\n",
    "Next 200 units                                              Rs 5 per unit\n",
    "After 200 units                                             Rs 10 per unit\n",
    "(For example if input unit is 350 than total bill amount is Rs.3500\n",
    "(For example if input unit is 97 than total bill amount is Rs.0\n",
    "(For example if input unit is 150 than total bill amount is Rs.750"
   ]
  },
  {
   "cell_type": "code",
   "execution_count": 23,
   "metadata": {},
   "outputs": [
    {
     "name": "stdout",
     "output_type": "stream",
     "text": [
      "Please Enter a unit: 500\n",
      "Your Net Bill Amount is:  5000\n"
     ]
    }
   ],
   "source": [
    "unit = int(input(\"Please Enter a unit: \"))\n",
    "if unit>=1 and unit<=100:\n",
    "    bill = 0\n",
    "    print(\"No Charge your Net Bill Amount is: \",bill)\n",
    "elif unit>100 and unit<=200:\n",
    "    bill = 5*unit\n",
    "    print(\"Your Net Bill Amount is: \",bill)\n",
    "elif unit>200:\n",
    "    bill = 10*unit\n",
    "    print(\"Your Net Bill Amount is: \",bill)\n"
   ]
  },
  {
   "cell_type": "raw",
   "metadata": {},
   "source": [
    "7) Write a program to display the last digit of a number.\n"
   ]
  },
  {
   "cell_type": "code",
   "execution_count": 24,
   "metadata": {},
   "outputs": [
    {
     "name": "stdout",
     "output_type": "stream",
     "text": [
      "Please Enter a Multiple Numbers: 123214321421321\n",
      "The last digit of your given Numbers is:  1\n"
     ]
    }
   ],
   "source": [
    "num = int(input(\"Please Enter a Multiple Numbers: \"))\n",
    "data = str(num)\n",
    "print(\"The last digit of your given Numbers is: \", data[-1])"
   ]
  },
  {
   "cell_type": "raw",
   "metadata": {},
   "source": [
    "\n",
    "Q8. Write a program to check whether the last digit of a number( entered by user ) is \n",
    "divisible by 3 or not."
   ]
  },
  {
   "cell_type": "code",
   "execution_count": 31,
   "metadata": {},
   "outputs": [
    {
     "name": "stdout",
     "output_type": "stream",
     "text": [
      "Please Enter a Multiple Numbers: 4354354353453556\n",
      "The last digit 6 is divisible of 3\n"
     ]
    }
   ],
   "source": [
    "num = int(input(\"Please Enter a Multiple Numbers: \"))\n",
    "data = str(num)\n",
    "last_digit = data[-1]\n",
    "a = int(last_digit)\n",
    "if (a%3) == 0:\n",
    "    print(\"The last digit {0} is divisible of 3\".format(a))\n",
    "else:\n",
    "    print(\"The last digit {0} is Not divisible of 3\".format(a))"
   ]
  },
  {
   "cell_type": "raw",
   "metadata": {},
   "source": [
    "9) Take values of length and breadth of a rectangle from user and check if it is square or not."
   ]
  },
  {
   "cell_type": "code",
   "execution_count": 67,
   "metadata": {},
   "outputs": [
    {
     "name": "stdout",
     "output_type": "stream",
     "text": [
      "Enter a length:12\n",
      "Enter a breadth:12\n",
      "It's a square\n"
     ]
    }
   ],
   "source": [
    "length = int(input(\"Enter a length:\"))\n",
    "\n",
    "breadth = int(input(\"Enter a breadth:\"))\n",
    "\n",
    "if length == breadth:\n",
    "    print(\"It's a square\")\n",
    "\n",
    "else :\n",
    "    print(\"Tt's a Rectangle\")\n",
    "\n"
   ]
  },
  {
   "cell_type": "raw",
   "metadata": {},
   "source": [
    "10) Take two int values from user and print greatest among them."
   ]
  },
  {
   "cell_type": "code",
   "execution_count": 50,
   "metadata": {},
   "outputs": [
    {
     "name": "stdout",
     "output_type": "stream",
     "text": [
      "Enter first number: 102\n",
      "Enter second number: 98\n",
      "Greater number is:  102\n"
     ]
    }
   ],
   "source": [
    "num1 = int(input(\"Enter first number: \"))\n",
    "num2 = int(input(\"Enter second number: \"))\n",
    "if num1<num2:\n",
    "    print(\"Greater number is: \",num2)\n",
    "if num1==num2:\n",
    "    print(\"Both Numbers are equal\")\n",
    "else:\n",
    "    print(\"Greater number is: \",num1)"
   ]
  },
  {
   "cell_type": "raw",
   "metadata": {},
   "source": [
    "11) A shop will give discount of 10% if the cost of purchased quantity is more than 1000.\n",
    "Ask user for quantity\n",
    "Suppose, one unit will cost 100.\n",
    "Judge and print total cost for user."
   ]
  },
  {
   "cell_type": "code",
   "execution_count": 51,
   "metadata": {},
   "outputs": [
    {
     "name": "stdout",
     "output_type": "stream",
     "text": [
      "Enter a product quantity: 50\n",
      "Congratulation you got 10% discount\n",
      "Your Discounted price is:  4500.0\n"
     ]
    }
   ],
   "source": [
    "quantity = int(input(\"Enter a product quantity: \"))\n",
    "unit_cost = 100\n",
    "price = quantity*unit_cost\n",
    "if price>1000:\n",
    "    print(\"Congratulation you got 10% discount\")\n",
    "    discounted_price = price - (price/100)*10\n",
    "    print(\"Your Discounted price is: \",discounted_price)\n",
    "else:\n",
    "    print(\"Discount available on more than Rs 1000 shopping\")"
   ]
  },
  {
   "cell_type": "raw",
   "metadata": {},
   "source": [
    "12) A school has following rules for grading system:\n",
    "\n",
    "a. Below 25 - F\n",
    "\n",
    "b. 25 to 45 - E\n",
    "\n",
    "c. 45 to 50 - D\n",
    "\n",
    "d. 50 to 60 - C\n",
    "\n",
    "e. 60 to 80 - B\n",
    "\n",
    "f. Above 80 - A\n",
    "\n",
    "Ask user to enter marks and print the corresponding grade."
   ]
  },
  {
   "cell_type": "code",
   "execution_count": 55,
   "metadata": {},
   "outputs": [
    {
     "name": "stdout",
     "output_type": "stream",
     "text": [
      "Enter subject 1 marks: 78\n",
      "Enter subject 2 marks: 89\n",
      "Enter subject 3 marks: 98\n",
      "Your Percentage is: 88.33333333333333%\n",
      "Your Grade is: A\n"
     ]
    }
   ],
   "source": [
    "sub1 = int(input(\"Enter subject 1 marks: \"))\n",
    "sub2 = int(input(\"Enter subject 2 marks: \"))\n",
    "sub3 = int(input(\"Enter subject 3 marks: \"))\n",
    "obtained_marks = sub1+sub2+sub3\n",
    "total_marks = 300\n",
    "percentage = (obtained_marks/total_marks)*100\n",
    "if percentage <=25:\n",
    "    print(\"Your Percentage is: {0}%\".format(percentage))\n",
    "    print(\"Your Grade is: F\")\n",
    "elif percentage >25 and percentage <=45:\n",
    "    print(\"Your Percentage is: {0}%\".format(percentage))\n",
    "    print(\"Your Grade is: E\")\n",
    "elif percentage >45 and percentage <=50:\n",
    "    print(\"Your Percentage is: {0}%\".format(percentage))\n",
    "    print(\"Your Grade is: D\")\n",
    "elif percentage >50 and percentage <=60:\n",
    "    print(\"Your Percentage is: {0}%\".format(percentage))\n",
    "    print(\"Your Grade is: C\")\n",
    "elif percentage >60 and percentage <=80:\n",
    "    print(\"Your Percentage is: {0}%\".format(percentage))\n",
    "    print(\"Your Grade is: B\")\n",
    "else:\n",
    "    print(\"Your Percentage is: {0}%\".format(percentage))\n",
    "    print(\"Your Grade is: A\")"
   ]
  },
  {
   "cell_type": "raw",
   "metadata": {},
   "source": [
    "13) Take input of age of 3 people by user and determine oldest and youngest among them."
   ]
  },
  {
   "cell_type": "code",
   "execution_count": 63,
   "metadata": {
    "scrolled": true
   },
   "outputs": [
    {
     "name": "stdout",
     "output_type": "stream",
     "text": [
      "Enter person1 age: 56\n",
      "Enter person2 age: 78\n",
      "Enter person3 age: 90\n",
      "Youngest person whose age is:  56\n",
      "Oldest person whose age is:  90\n"
     ]
    }
   ],
   "source": [
    "arr = []\n",
    "for i in range (1,4):\n",
    "    a = int(input(\"Enter person{0} age: \".format(i)))\n",
    "    arr.append(a)\n",
    "arr.sort()\n",
    "print(\"Youngest person whose age is: \",arr[0])\n",
    "print(\"Oldest person whose age is: \",arr[-1])\n",
    "    "
   ]
  },
  {
   "cell_type": "raw",
   "metadata": {},
   "source": [
    "14)A student will not be allowed to sit in exam if his/her attendence is less than 75%.\n",
    "\n",
    "Take following input from user\n",
    "\n",
    "Number of classes held\n",
    "\n",
    "Number of classes attended.\n",
    "\n",
    "And print\n",
    "\n",
    "percentage of class attended\n",
    "\n",
    "Is student is allowed to sit in exam or not.\n"
   ]
  },
  {
   "cell_type": "code",
   "execution_count": 64,
   "metadata": {},
   "outputs": [
    {
     "name": "stdout",
     "output_type": "stream",
     "text": [
      "Enter Number of Classes held: 15\n",
      "Enter Number of Classes attend: 10\n",
      "Sorry, You are not allowed sit in Exam\n"
     ]
    }
   ],
   "source": [
    "no_of_classes_held = int(input(\"Enter Number of Classes held: \"))\n",
    "no_of_classes_attend = int(input(\"Enter Number of Classes attend: \"))\n",
    "percentage = (no_of_classes_attend/no_of_classes_held)*100\n",
    "if percentage <75:\n",
    "    print(\"Sorry, You are not allowed to sit in Exam\")\n",
    "else:\n",
    "    print(\"Congratulations, You are allowed sit in Exam\")"
   ]
  },
  {
   "cell_type": "raw",
   "metadata": {},
   "source": [
    "15) Modify the above question to allow student to sit if he/she has medical cause. Ask user if he/she has medical cause or not ( 'Y' or 'N' ) and print accordingly."
   ]
  },
  {
   "cell_type": "code",
   "execution_count": 66,
   "metadata": {},
   "outputs": [
    {
     "name": "stdout",
     "output_type": "stream",
     "text": [
      "Enter Number of Classes held: 15\n",
      "Enter Number of Classes attend: 8\n",
      "You have any medical cause Y or N: y\n",
      "Your attendance percentage is:  53.333333333333336\n",
      "Congratulations Due to Medical Cause, You are allowed sit in Exam\n"
     ]
    }
   ],
   "source": [
    "no_of_classes_held = int(input(\"Enter Number of Classes held: \"))\n",
    "no_of_classes_attend = int(input(\"Enter Number of Classes attend: \"))\n",
    "medical_cause = input(\"You have any medical cause Y or N: \")\n",
    "percentage = (no_of_classes_attend/no_of_classes_held)*100\n",
    "a = medical_cause.upper()\n",
    "if percentage <75 and a ==\"N\":\n",
    "    print(\"Sorry, You are not allowed to sit in Exam\")\n",
    "elif percentage<75 and a == \"Y\":\n",
    "    print(\"Your attendance percentage is: \",percentage)\n",
    "    print(\"Congratulations Due to Medical Cause, You are allowed sit in Exam\")\n",
    "else:\n",
    "    print(\"Congratulations, You are allowed sit in Exam\")"
   ]
  },
  {
   "cell_type": "raw",
   "metadata": {},
   "source": [
    "16) Write a program to check if a year is leap year or not.\n",
    "\n",
    "If a year is divisible by 4 then it is leap year but if the year is century year like 2000, 1900, 2100 then it must be divisible by 400."
   ]
  },
  {
   "cell_type": "code",
   "execution_count": 47,
   "metadata": {},
   "outputs": [
    {
     "name": "stdout",
     "output_type": "stream",
     "text": [
      "Enter a year: 2022\n",
      "Given year is not a leap year\n"
     ]
    }
   ],
   "source": [
    "year  = int(input(\"Enter a year: \"))\n",
    "if (year%4) == 0 or (year%400) == 0:\n",
    "    print(\"Given year is a leap year\")\n",
    "else:\n",
    "    print(\"Given year is not a leap year\")"
   ]
  },
  {
   "cell_type": "raw",
   "metadata": {},
   "source": [
    "17) Ask user to enter age, gender ( M or F ), marital status ( Y or N ) and then using following rules print their place of service.\n",
    "\n",
    "if employee is female, then she will work only in urban areas.\n",
    "\n",
    "if employee is a male and age is in between 20 to 40 then he may work in anywhere\n",
    "\n",
    "if employee is male and age is in between 40 t0 60 then he will work in urban areas only.\n",
    "\n",
    "And any other input of age should print \"ERROR\""
   ]
  },
  {
   "cell_type": "code",
   "execution_count": 46,
   "metadata": {},
   "outputs": [
    {
     "name": "stdout",
     "output_type": "stream",
     "text": [
      "Enter your age: 23\n",
      "Enter yout gender e.g M or F: m\n",
      "Enter yout marital status e.g Y or N: y\n",
      "You may work anywhere\n"
     ]
    }
   ],
   "source": [
    "age = int(input(\"Enter your age: \"))\n",
    "gender = input(\"Enter yout gender e.g M or F: \")\n",
    "marital_status = input(\"Enter yout marital status e.g Y or N: \")\n",
    "a = gender.upper()\n",
    "if gender == \"F\":\n",
    "    print('You will work only in urban areas')\n",
    "elif a == \"M\" and age>=20 and age<=40:\n",
    "    print('You may work anywhere')\n",
    "elif a ==\"M\" and age>=40 and age<=60:\n",
    "    print('You will work in urban areas only')\n",
    "else:\n",
    "    print(\"Error\")"
   ]
  },
  {
   "cell_type": "code",
   "execution_count": null,
   "metadata": {},
   "outputs": [],
   "source": []
  },
  {
   "cell_type": "code",
   "execution_count": null,
   "metadata": {},
   "outputs": [],
   "source": []
  }
 ],
 "metadata": {
  "kernelspec": {
   "display_name": "Python 3 (ipykernel)",
   "language": "python",
   "name": "python3"
  },
  "language_info": {
   "codemirror_mode": {
    "name": "ipython",
    "version": 3
   },
   "file_extension": ".py",
   "mimetype": "text/x-python",
   "name": "python",
   "nbconvert_exporter": "python",
   "pygments_lexer": "ipython3",
   "version": "3.9.7"
  }
 },
 "nbformat": 4,
 "nbformat_minor": 2
}
